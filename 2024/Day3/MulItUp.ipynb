{
 "cells": [
  {
   "cell_type": "code",
   "execution_count": 1,
   "metadata": {},
   "outputs": [
    {
     "name": "stdout",
     "output_type": "stream",
     "text": [
      "Sum of enabled multiplications: 48\n"
     ]
    }
   ],
   "source": [
    "import re\n",
    "\n",
    "def calculate_sum_with_conditions(memory: str) -> int:\n",
    "    # Regular expressions to match valid instructions\n",
    "    mul_pattern = re.compile(r\"mul\\((\\d+),(\\d+)\\)\")\n",
    "    do_pattern = re.compile(r\"do\\(\\)\")\n",
    "    dont_pattern = re.compile(r\"don't\\(\\)\")\n",
    "\n",
    "    # Initial state: mul instructions are enabled\n",
    "    mul_enabled = True\n",
    "    total_sum = 0\n",
    "\n",
    "    # Iterate through the memory to process instructions sequentially\n",
    "    pos = 0\n",
    "    while pos < len(memory):\n",
    "        # Check for valid mul instruction\n",
    "        mul_match = mul_pattern.match(memory, pos)\n",
    "        if mul_match:\n",
    "            if mul_enabled:\n",
    "                x, y = map(int, mul_match.groups())\n",
    "                total_sum += x * y\n",
    "            pos = mul_match.end()\n",
    "            continue\n",
    "\n",
    "        # Check for do() instruction\n",
    "        do_match = do_pattern.match(memory, pos)\n",
    "        if do_match:\n",
    "            mul_enabled = True\n",
    "            pos = do_match.end()\n",
    "            continue\n",
    "\n",
    "        # Check for don't() instruction\n",
    "        dont_match = dont_pattern.match(memory, pos)\n",
    "        if dont_match:\n",
    "            mul_enabled = False\n",
    "            pos = dont_match.end()\n",
    "            continue\n",
    "\n",
    "        # Move to the next character if no instruction matches\n",
    "        pos += 1\n",
    "\n",
    "    return total_sum\n",
    "\n",
    "# Example input\n",
    "memory = (\n",
    "    \"xmul(2,4)&mul[3,7]!^don't()_mul(5,5)+mul(32,64](mul(11,8)undo()?mul(8,5))\"\n",
    ")\n",
    "\n",
    "# Calculate the sum\n",
    "result = calculate_sum_with_conditions(memory)\n",
    "print(\"Sum of enabled multiplications:\", result)\n"
   ]
  }
 ],
 "metadata": {
  "kernelspec": {
   "display_name": "Python 3",
   "language": "python",
   "name": "python3"
  },
  "language_info": {
   "codemirror_mode": {
    "name": "ipython",
    "version": 3
   },
   "file_extension": ".py",
   "mimetype": "text/x-python",
   "name": "python",
   "nbconvert_exporter": "python",
   "pygments_lexer": "ipython3",
   "version": "3.13.1"
  }
 },
 "nbformat": 4,
 "nbformat_minor": 2
}
